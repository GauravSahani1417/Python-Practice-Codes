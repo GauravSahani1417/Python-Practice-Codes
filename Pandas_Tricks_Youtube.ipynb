{
  "nbformat": 4,
  "nbformat_minor": 0,
  "metadata": {
    "colab": {
      "name": "Pandas Tricks Youtube.ipynb",
      "provenance": [],
      "collapsed_sections": [],
      "authorship_tag": "ABX9TyOZM4yB5j4GZvoFlXlrTJ1o",
      "include_colab_link": true
    },
    "kernelspec": {
      "name": "python3",
      "display_name": "Python 3"
    }
  },
  "cells": [
    {
      "cell_type": "markdown",
      "metadata": {
        "id": "view-in-github",
        "colab_type": "text"
      },
      "source": [
        "<a href=\"https://colab.research.google.com/github/GauravSahani1417/Python-Practice-Codes/blob/master/Pandas_Tricks_Youtube.ipynb\" target=\"_parent\"><img src=\"https://colab.research.google.com/assets/colab-badge.svg\" alt=\"Open In Colab\"/></a>"
      ]
    },
    {
      "cell_type": "code",
      "metadata": {
        "id": "kqMO2ahwB31t"
      },
      "source": [
        "import pandas as pd\n",
        "\n",
        "df = pd.DataFrame(dict(col_1=[1.53,-2.5,3.53], \n",
        "                       col_2=[-4.1,5.9,0])\n",
        "                 )"
      ],
      "execution_count": null,
      "outputs": []
    },
    {
      "cell_type": "code",
      "metadata": {
        "colab": {
          "base_uri": "https://localhost:8080/",
          "height": 97
        },
        "id": "4ZifoWAF9CBC",
        "outputId": "bcab362a-5906-4f10-be38-4b59db9c3690"
      },
      "source": [
        "def color_negative_red(val):\n",
        "    color = 'red' if val < 0 else 'green'\n",
        "    return 'color: %s' % color\n",
        "\n",
        "df.style.applymap(color_negative_red)"
      ],
      "execution_count": null,
      "outputs": [
        {
          "output_type": "execute_result",
          "data": {
            "text/html": [
              "<style  type=\"text/css\" >\n",
              "#T_e949ee64_8bf6_11eb_b593_0242ac1c0002row0_col0,#T_e949ee64_8bf6_11eb_b593_0242ac1c0002row1_col1,#T_e949ee64_8bf6_11eb_b593_0242ac1c0002row2_col0,#T_e949ee64_8bf6_11eb_b593_0242ac1c0002row2_col1{\n",
              "            color:  green;\n",
              "        }#T_e949ee64_8bf6_11eb_b593_0242ac1c0002row0_col1,#T_e949ee64_8bf6_11eb_b593_0242ac1c0002row1_col0{\n",
              "            color:  red;\n",
              "        }</style><table id=\"T_e949ee64_8bf6_11eb_b593_0242ac1c0002\" ><thead>    <tr>        <th class=\"blank level0\" ></th>        <th class=\"col_heading level0 col0\" >col_1</th>        <th class=\"col_heading level0 col1\" >col_2</th>    </tr></thead><tbody>\n",
              "                <tr>\n",
              "                        <th id=\"T_e949ee64_8bf6_11eb_b593_0242ac1c0002level0_row0\" class=\"row_heading level0 row0\" >0</th>\n",
              "                        <td id=\"T_e949ee64_8bf6_11eb_b593_0242ac1c0002row0_col0\" class=\"data row0 col0\" >1.530000</td>\n",
              "                        <td id=\"T_e949ee64_8bf6_11eb_b593_0242ac1c0002row0_col1\" class=\"data row0 col1\" >-4.100000</td>\n",
              "            </tr>\n",
              "            <tr>\n",
              "                        <th id=\"T_e949ee64_8bf6_11eb_b593_0242ac1c0002level0_row1\" class=\"row_heading level0 row1\" >1</th>\n",
              "                        <td id=\"T_e949ee64_8bf6_11eb_b593_0242ac1c0002row1_col0\" class=\"data row1 col0\" >-2.500000</td>\n",
              "                        <td id=\"T_e949ee64_8bf6_11eb_b593_0242ac1c0002row1_col1\" class=\"data row1 col1\" >5.900000</td>\n",
              "            </tr>\n",
              "            <tr>\n",
              "                        <th id=\"T_e949ee64_8bf6_11eb_b593_0242ac1c0002level0_row2\" class=\"row_heading level0 row2\" >2</th>\n",
              "                        <td id=\"T_e949ee64_8bf6_11eb_b593_0242ac1c0002row2_col0\" class=\"data row2 col0\" >3.530000</td>\n",
              "                        <td id=\"T_e949ee64_8bf6_11eb_b593_0242ac1c0002row2_col1\" class=\"data row2 col1\" >0.000000</td>\n",
              "            </tr>\n",
              "    </tbody></table>"
            ],
            "text/plain": [
              "<pandas.io.formats.style.Styler at 0x7ff3335a0350>"
            ]
          },
          "metadata": {
            "tags": []
          },
          "execution_count": 3
        }
      ]
    },
    {
      "cell_type": "markdown",
      "metadata": {
        "id": "Ez_8wT37DIDB"
      },
      "source": [
        "#### Memory usage(in bytes)\n"
      ]
    },
    {
      "cell_type": "code",
      "metadata": {
        "colab": {
          "base_uri": "https://localhost:8080/"
        },
        "id": "KzBahJ8jCC7k",
        "outputId": "a0006bb7-0c23-4ab0-f476-3d2c7cbf727f"
      },
      "source": [
        "df.memory_usage(deep=False)"
      ],
      "execution_count": null,
      "outputs": [
        {
          "output_type": "execute_result",
          "data": {
            "text/plain": [
              "Index    128\n",
              "col_1     24\n",
              "col_2     24\n",
              "dtype: int64"
            ]
          },
          "metadata": {
            "tags": []
          },
          "execution_count": 5
        }
      ]
    },
    {
      "cell_type": "markdown",
      "metadata": {
        "id": "Y2zrvkgoDxQV"
      },
      "source": [
        "The reader may have experienced the following issues when using .head(n) to check the dataframe:\n",
        "\n",
        "*   There’re too many columns / rows in the dataframe and some columns / rows in the middle are omitted.\n",
        "*  Columns containing long texts get truncated. \n"
      ]
    },
    {
      "cell_type": "code",
      "metadata": {
        "id": "f_LxolsqC7-R"
      },
      "source": [
        "import pandas as pd \n",
        "pd.options.display.max_columns = 50  # None -> No Restrictions\n",
        "pd.options.display.max_rows = 200    # None -> Be careful with this \n",
        "pd.options.display.max_colwidth = 100\n",
        "pd.options.display.precision = 3"
      ],
      "execution_count": null,
      "outputs": []
    },
    {
      "cell_type": "code",
      "metadata": {
        "colab": {
          "base_uri": "https://localhost:8080/",
          "height": 142
        },
        "id": "uWs6_jEjDodE",
        "outputId": "32fe8ef1-9c0b-4cdc-87fd-d2a8d623ef34"
      },
      "source": [
        "df.head()"
      ],
      "execution_count": null,
      "outputs": [
        {
          "output_type": "execute_result",
          "data": {
            "text/html": [
              "<div>\n",
              "<style scoped>\n",
              "    .dataframe tbody tr th:only-of-type {\n",
              "        vertical-align: middle;\n",
              "    }\n",
              "\n",
              "    .dataframe tbody tr th {\n",
              "        vertical-align: top;\n",
              "    }\n",
              "\n",
              "    .dataframe thead th {\n",
              "        text-align: right;\n",
              "    }\n",
              "</style>\n",
              "<table border=\"1\" class=\"dataframe\">\n",
              "  <thead>\n",
              "    <tr style=\"text-align: right;\">\n",
              "      <th></th>\n",
              "      <th>col_1</th>\n",
              "      <th>col_2</th>\n",
              "    </tr>\n",
              "  </thead>\n",
              "  <tbody>\n",
              "    <tr>\n",
              "      <th>0</th>\n",
              "      <td>1.53</td>\n",
              "      <td>-4.1</td>\n",
              "    </tr>\n",
              "    <tr>\n",
              "      <th>1</th>\n",
              "      <td>-2.50</td>\n",
              "      <td>5.9</td>\n",
              "    </tr>\n",
              "    <tr>\n",
              "      <th>2</th>\n",
              "      <td>3.53</td>\n",
              "      <td>0.0</td>\n",
              "    </tr>\n",
              "  </tbody>\n",
              "</table>\n",
              "</div>"
            ],
            "text/plain": [
              "   col_1  col_2\n",
              "0   1.53   -4.1\n",
              "1  -2.50    5.9\n",
              "2   3.53    0.0"
            ]
          },
          "metadata": {
            "tags": []
          },
          "execution_count": 14
        }
      ]
    },
    {
      "cell_type": "markdown",
      "metadata": {
        "id": "E3kqJRWrCfOZ"
      },
      "source": [
        "#Crosstabs:"
      ]
    },
    {
      "cell_type": "code",
      "metadata": {
        "id": "zoTulzWPg-QG"
      },
      "source": [
        "import pandas as pd"
      ],
      "execution_count": null,
      "outputs": []
    },
    {
      "cell_type": "code",
      "metadata": {
        "id": "WoZci70kDqvW"
      },
      "source": [
        "df1 = pd.DataFrame(dict(Departure=['MUM','MUM','DEL','DEL','MUM','MUM','DEL','MUM'],\n",
        "                        Arrival=['G1','G1','G3','G2','G2','G4','G3','G1'],\n",
        "                        Airline=['Indigo','Indigo','Vistara','Indigo','AirAsia','Indigo','Vistara','AirIndia'])) \n"
      ],
      "execution_count": null,
      "outputs": []
    },
    {
      "cell_type": "code",
      "metadata": {
        "colab": {
          "base_uri": "https://localhost:8080/",
          "height": 203
        },
        "id": "-pzsh40_Cnwy",
        "outputId": "4494479f-9b83-4bce-9284-ea781e6b0032"
      },
      "source": [
        "df1.head()"
      ],
      "execution_count": null,
      "outputs": [
        {
          "output_type": "execute_result",
          "data": {
            "text/html": [
              "<div>\n",
              "<style scoped>\n",
              "    .dataframe tbody tr th:only-of-type {\n",
              "        vertical-align: middle;\n",
              "    }\n",
              "\n",
              "    .dataframe tbody tr th {\n",
              "        vertical-align: top;\n",
              "    }\n",
              "\n",
              "    .dataframe thead th {\n",
              "        text-align: right;\n",
              "    }\n",
              "</style>\n",
              "<table border=\"1\" class=\"dataframe\">\n",
              "  <thead>\n",
              "    <tr style=\"text-align: right;\">\n",
              "      <th></th>\n",
              "      <th>Departure</th>\n",
              "      <th>Arrival</th>\n",
              "      <th>Airline</th>\n",
              "    </tr>\n",
              "  </thead>\n",
              "  <tbody>\n",
              "    <tr>\n",
              "      <th>0</th>\n",
              "      <td>MUM</td>\n",
              "      <td>G1</td>\n",
              "      <td>Indigo</td>\n",
              "    </tr>\n",
              "    <tr>\n",
              "      <th>1</th>\n",
              "      <td>MUM</td>\n",
              "      <td>G1</td>\n",
              "      <td>Indigo</td>\n",
              "    </tr>\n",
              "    <tr>\n",
              "      <th>2</th>\n",
              "      <td>DEL</td>\n",
              "      <td>G3</td>\n",
              "      <td>Vistara</td>\n",
              "    </tr>\n",
              "    <tr>\n",
              "      <th>3</th>\n",
              "      <td>DEL</td>\n",
              "      <td>G2</td>\n",
              "      <td>Indigo</td>\n",
              "    </tr>\n",
              "    <tr>\n",
              "      <th>4</th>\n",
              "      <td>MUM</td>\n",
              "      <td>G2</td>\n",
              "      <td>AirAsia</td>\n",
              "    </tr>\n",
              "  </tbody>\n",
              "</table>\n",
              "</div>"
            ],
            "text/plain": [
              "  Departure Arrival  Airline\n",
              "0       MUM      G1   Indigo\n",
              "1       MUM      G1   Indigo\n",
              "2       DEL      G3  Vistara\n",
              "3       DEL      G2   Indigo\n",
              "4       MUM      G2  AirAsia"
            ]
          },
          "metadata": {
            "tags": []
          },
          "execution_count": 6
        }
      ]
    },
    {
      "cell_type": "code",
      "metadata": {
        "colab": {
          "base_uri": "https://localhost:8080/",
          "height": 265
        },
        "id": "hzjJ73m5Crsa",
        "outputId": "f4aee1fc-d535-4a97-a912-7c3539988150"
      },
      "source": [
        "pd.crosstab(index=[df1['Departure'],df1['Airline']],\n",
        "            columns=[df1['Arrival']],\n",
        "            rownames=['Departure','Airline'],\n",
        "            colnames=['Arrival'],\n",
        "            margins=True)"
      ],
      "execution_count": null,
      "outputs": [
        {
          "output_type": "execute_result",
          "data": {
            "text/html": [
              "<div>\n",
              "<style scoped>\n",
              "    .dataframe tbody tr th:only-of-type {\n",
              "        vertical-align: middle;\n",
              "    }\n",
              "\n",
              "    .dataframe tbody tr th {\n",
              "        vertical-align: top;\n",
              "    }\n",
              "\n",
              "    .dataframe thead th {\n",
              "        text-align: right;\n",
              "    }\n",
              "</style>\n",
              "<table border=\"1\" class=\"dataframe\">\n",
              "  <thead>\n",
              "    <tr style=\"text-align: right;\">\n",
              "      <th></th>\n",
              "      <th>Arrival</th>\n",
              "      <th>G1</th>\n",
              "      <th>G2</th>\n",
              "      <th>G3</th>\n",
              "      <th>G4</th>\n",
              "      <th>All</th>\n",
              "    </tr>\n",
              "    <tr>\n",
              "      <th>Departure</th>\n",
              "      <th>Airline</th>\n",
              "      <th></th>\n",
              "      <th></th>\n",
              "      <th></th>\n",
              "      <th></th>\n",
              "      <th></th>\n",
              "    </tr>\n",
              "  </thead>\n",
              "  <tbody>\n",
              "    <tr>\n",
              "      <th rowspan=\"2\" valign=\"top\">DEL</th>\n",
              "      <th>Indigo</th>\n",
              "      <td>0</td>\n",
              "      <td>1</td>\n",
              "      <td>0</td>\n",
              "      <td>0</td>\n",
              "      <td>1</td>\n",
              "    </tr>\n",
              "    <tr>\n",
              "      <th>Vistara</th>\n",
              "      <td>0</td>\n",
              "      <td>0</td>\n",
              "      <td>2</td>\n",
              "      <td>0</td>\n",
              "      <td>2</td>\n",
              "    </tr>\n",
              "    <tr>\n",
              "      <th rowspan=\"3\" valign=\"top\">MUM</th>\n",
              "      <th>AirAsia</th>\n",
              "      <td>0</td>\n",
              "      <td>1</td>\n",
              "      <td>0</td>\n",
              "      <td>0</td>\n",
              "      <td>1</td>\n",
              "    </tr>\n",
              "    <tr>\n",
              "      <th>AirIndia</th>\n",
              "      <td>1</td>\n",
              "      <td>0</td>\n",
              "      <td>0</td>\n",
              "      <td>0</td>\n",
              "      <td>1</td>\n",
              "    </tr>\n",
              "    <tr>\n",
              "      <th>Indigo</th>\n",
              "      <td>2</td>\n",
              "      <td>0</td>\n",
              "      <td>0</td>\n",
              "      <td>1</td>\n",
              "      <td>3</td>\n",
              "    </tr>\n",
              "    <tr>\n",
              "      <th>All</th>\n",
              "      <th></th>\n",
              "      <td>3</td>\n",
              "      <td>2</td>\n",
              "      <td>2</td>\n",
              "      <td>1</td>\n",
              "      <td>8</td>\n",
              "    </tr>\n",
              "  </tbody>\n",
              "</table>\n",
              "</div>"
            ],
            "text/plain": [
              "Arrival             G1  G2  G3  G4  All\n",
              "Departure Airline                      \n",
              "DEL       Indigo     0   1   0   0    1\n",
              "          Vistara    0   0   2   0    2\n",
              "MUM       AirAsia    0   1   0   0    1\n",
              "          AirIndia   1   0   0   0    1\n",
              "          Indigo     2   0   0   1    3\n",
              "All                  3   2   2   1    8"
            ]
          },
          "metadata": {
            "tags": []
          },
          "execution_count": 7
        }
      ]
    },
    {
      "cell_type": "markdown",
      "metadata": {
        "id": "rsFSPcLUInfk"
      },
      "source": [
        "### Query: \n"
      ]
    },
    {
      "cell_type": "code",
      "metadata": {
        "colab": {
          "base_uri": "https://localhost:8080/",
          "height": 203
        },
        "id": "TqNTo1UnF9kB",
        "outputId": "619e4cdf-46b3-4694-e11a-acde0a5e2953"
      },
      "source": [
        "df1.head()"
      ],
      "execution_count": null,
      "outputs": [
        {
          "output_type": "execute_result",
          "data": {
            "text/html": [
              "<div>\n",
              "<style scoped>\n",
              "    .dataframe tbody tr th:only-of-type {\n",
              "        vertical-align: middle;\n",
              "    }\n",
              "\n",
              "    .dataframe tbody tr th {\n",
              "        vertical-align: top;\n",
              "    }\n",
              "\n",
              "    .dataframe thead th {\n",
              "        text-align: right;\n",
              "    }\n",
              "</style>\n",
              "<table border=\"1\" class=\"dataframe\">\n",
              "  <thead>\n",
              "    <tr style=\"text-align: right;\">\n",
              "      <th></th>\n",
              "      <th>Departure</th>\n",
              "      <th>Arrival</th>\n",
              "      <th>Airline</th>\n",
              "    </tr>\n",
              "  </thead>\n",
              "  <tbody>\n",
              "    <tr>\n",
              "      <th>0</th>\n",
              "      <td>MUM</td>\n",
              "      <td>G1</td>\n",
              "      <td>Indigo</td>\n",
              "    </tr>\n",
              "    <tr>\n",
              "      <th>1</th>\n",
              "      <td>MUM</td>\n",
              "      <td>G1</td>\n",
              "      <td>Indigo</td>\n",
              "    </tr>\n",
              "    <tr>\n",
              "      <th>2</th>\n",
              "      <td>DEL</td>\n",
              "      <td>G3</td>\n",
              "      <td>Vistara</td>\n",
              "    </tr>\n",
              "    <tr>\n",
              "      <th>3</th>\n",
              "      <td>DEL</td>\n",
              "      <td>G2</td>\n",
              "      <td>Indigo</td>\n",
              "    </tr>\n",
              "    <tr>\n",
              "      <th>4</th>\n",
              "      <td>MUM</td>\n",
              "      <td>G2</td>\n",
              "      <td>AirAsia</td>\n",
              "    </tr>\n",
              "  </tbody>\n",
              "</table>\n",
              "</div>"
            ],
            "text/plain": [
              "  Departure Arrival  Airline\n",
              "0       MUM      G1   Indigo\n",
              "1       MUM      G1   Indigo\n",
              "2       DEL      G3  Vistara\n",
              "3       DEL      G2   Indigo\n",
              "4       MUM      G2  AirAsia"
            ]
          },
          "metadata": {
            "tags": []
          },
          "execution_count": 8
        }
      ]
    },
    {
      "cell_type": "code",
      "metadata": {
        "colab": {
          "base_uri": "https://localhost:8080/",
          "height": 172
        },
        "id": "_Ww_gFFkIf0L",
        "outputId": "04c523ba-54f5-41c4-dba0-969a3618ced1"
      },
      "source": [
        "df1.query('Airline == \"Indigo\"')"
      ],
      "execution_count": null,
      "outputs": [
        {
          "output_type": "execute_result",
          "data": {
            "text/html": [
              "<div>\n",
              "<style scoped>\n",
              "    .dataframe tbody tr th:only-of-type {\n",
              "        vertical-align: middle;\n",
              "    }\n",
              "\n",
              "    .dataframe tbody tr th {\n",
              "        vertical-align: top;\n",
              "    }\n",
              "\n",
              "    .dataframe thead th {\n",
              "        text-align: right;\n",
              "    }\n",
              "</style>\n",
              "<table border=\"1\" class=\"dataframe\">\n",
              "  <thead>\n",
              "    <tr style=\"text-align: right;\">\n",
              "      <th></th>\n",
              "      <th>Departure</th>\n",
              "      <th>Arrival</th>\n",
              "      <th>Airline</th>\n",
              "    </tr>\n",
              "  </thead>\n",
              "  <tbody>\n",
              "    <tr>\n",
              "      <th>0</th>\n",
              "      <td>MUM</td>\n",
              "      <td>G1</td>\n",
              "      <td>Indigo</td>\n",
              "    </tr>\n",
              "    <tr>\n",
              "      <th>1</th>\n",
              "      <td>MUM</td>\n",
              "      <td>G1</td>\n",
              "      <td>Indigo</td>\n",
              "    </tr>\n",
              "    <tr>\n",
              "      <th>3</th>\n",
              "      <td>DEL</td>\n",
              "      <td>G2</td>\n",
              "      <td>Indigo</td>\n",
              "    </tr>\n",
              "    <tr>\n",
              "      <th>5</th>\n",
              "      <td>MUM</td>\n",
              "      <td>G4</td>\n",
              "      <td>Indigo</td>\n",
              "    </tr>\n",
              "  </tbody>\n",
              "</table>\n",
              "</div>"
            ],
            "text/plain": [
              "  Departure Arrival Airline\n",
              "0       MUM      G1  Indigo\n",
              "1       MUM      G1  Indigo\n",
              "3       DEL      G2  Indigo\n",
              "5       MUM      G4  Indigo"
            ]
          },
          "metadata": {
            "tags": []
          },
          "execution_count": 11
        }
      ]
    },
    {
      "cell_type": "code",
      "metadata": {
        "colab": {
          "base_uri": "https://localhost:8080/",
          "height": 234
        },
        "id": "KY7gKZFsIlS2",
        "outputId": "ff06948b-1283-4bec-eff6-34a77359e660"
      },
      "source": [
        "df1.query('Airline == \"Indigo\" or Airline == \"Vistara\"')"
      ],
      "execution_count": null,
      "outputs": [
        {
          "output_type": "execute_result",
          "data": {
            "text/html": [
              "<div>\n",
              "<style scoped>\n",
              "    .dataframe tbody tr th:only-of-type {\n",
              "        vertical-align: middle;\n",
              "    }\n",
              "\n",
              "    .dataframe tbody tr th {\n",
              "        vertical-align: top;\n",
              "    }\n",
              "\n",
              "    .dataframe thead th {\n",
              "        text-align: right;\n",
              "    }\n",
              "</style>\n",
              "<table border=\"1\" class=\"dataframe\">\n",
              "  <thead>\n",
              "    <tr style=\"text-align: right;\">\n",
              "      <th></th>\n",
              "      <th>Departure</th>\n",
              "      <th>Arrival</th>\n",
              "      <th>Airline</th>\n",
              "    </tr>\n",
              "  </thead>\n",
              "  <tbody>\n",
              "    <tr>\n",
              "      <th>0</th>\n",
              "      <td>MUM</td>\n",
              "      <td>G1</td>\n",
              "      <td>Indigo</td>\n",
              "    </tr>\n",
              "    <tr>\n",
              "      <th>1</th>\n",
              "      <td>MUM</td>\n",
              "      <td>G1</td>\n",
              "      <td>Indigo</td>\n",
              "    </tr>\n",
              "    <tr>\n",
              "      <th>2</th>\n",
              "      <td>DEL</td>\n",
              "      <td>G3</td>\n",
              "      <td>Vistara</td>\n",
              "    </tr>\n",
              "    <tr>\n",
              "      <th>3</th>\n",
              "      <td>DEL</td>\n",
              "      <td>G2</td>\n",
              "      <td>Indigo</td>\n",
              "    </tr>\n",
              "    <tr>\n",
              "      <th>5</th>\n",
              "      <td>MUM</td>\n",
              "      <td>G4</td>\n",
              "      <td>Indigo</td>\n",
              "    </tr>\n",
              "    <tr>\n",
              "      <th>6</th>\n",
              "      <td>DEL</td>\n",
              "      <td>G3</td>\n",
              "      <td>Vistara</td>\n",
              "    </tr>\n",
              "  </tbody>\n",
              "</table>\n",
              "</div>"
            ],
            "text/plain": [
              "  Departure Arrival  Airline\n",
              "0       MUM      G1   Indigo\n",
              "1       MUM      G1   Indigo\n",
              "2       DEL      G3  Vistara\n",
              "3       DEL      G2   Indigo\n",
              "5       MUM      G4   Indigo\n",
              "6       DEL      G3  Vistara"
            ]
          },
          "metadata": {
            "tags": []
          },
          "execution_count": 12
        }
      ]
    },
    {
      "cell_type": "markdown",
      "metadata": {
        "id": "NN-d74eDMLFR"
      },
      "source": [
        "#### Scrap html pages with python! (before you go with BS4, Scrapy, etc!)"
      ]
    },
    {
      "cell_type": "code",
      "metadata": {
        "id": "1KEvvzDUJHsy"
      },
      "source": [
        "amazon_stocks = pd.read_html('https://finance.yahoo.com/quote/AMZN?p=AMZN')"
      ],
      "execution_count": null,
      "outputs": []
    },
    {
      "cell_type": "code",
      "metadata": {
        "colab": {
          "base_uri": "https://localhost:8080/",
          "height": 543
        },
        "id": "0laZaw65MxFC",
        "outputId": "6108ac22-3183-435b-ca4c-b169272752bc"
      },
      "source": [
        "pd.concat([amazon_stocks[0],amazon_stocks[1]])"
      ],
      "execution_count": null,
      "outputs": [
        {
          "output_type": "execute_result",
          "data": {
            "text/html": [
              "<div>\n",
              "<style scoped>\n",
              "    .dataframe tbody tr th:only-of-type {\n",
              "        vertical-align: middle;\n",
              "    }\n",
              "\n",
              "    .dataframe tbody tr th {\n",
              "        vertical-align: top;\n",
              "    }\n",
              "\n",
              "    .dataframe thead th {\n",
              "        text-align: right;\n",
              "    }\n",
              "</style>\n",
              "<table border=\"1\" class=\"dataframe\">\n",
              "  <thead>\n",
              "    <tr style=\"text-align: right;\">\n",
              "      <th></th>\n",
              "      <th>0</th>\n",
              "      <th>1</th>\n",
              "    </tr>\n",
              "  </thead>\n",
              "  <tbody>\n",
              "    <tr>\n",
              "      <th>0</th>\n",
              "      <td>Previous Close</td>\n",
              "      <td>3110.87</td>\n",
              "    </tr>\n",
              "    <tr>\n",
              "      <th>1</th>\n",
              "      <td>Open</td>\n",
              "      <td>3127.00</td>\n",
              "    </tr>\n",
              "    <tr>\n",
              "      <th>2</th>\n",
              "      <td>Bid</td>\n",
              "      <td>0.00 x 800</td>\n",
              "    </tr>\n",
              "    <tr>\n",
              "      <th>3</th>\n",
              "      <td>Ask</td>\n",
              "      <td>0.00 x 1400</td>\n",
              "    </tr>\n",
              "    <tr>\n",
              "      <th>4</th>\n",
              "      <td>Day's Range</td>\n",
              "      <td>3,120.85 - 3,177.00</td>\n",
              "    </tr>\n",
              "    <tr>\n",
              "      <th>5</th>\n",
              "      <td>52 Week Range</td>\n",
              "      <td>1,885.78 - 3,552.25</td>\n",
              "    </tr>\n",
              "    <tr>\n",
              "      <th>6</th>\n",
              "      <td>Volume</td>\n",
              "      <td>3540586</td>\n",
              "    </tr>\n",
              "    <tr>\n",
              "      <th>7</th>\n",
              "      <td>Avg. Volume</td>\n",
              "      <td>3695123</td>\n",
              "    </tr>\n",
              "    <tr>\n",
              "      <th>0</th>\n",
              "      <td>Market Cap</td>\n",
              "      <td>1.58T</td>\n",
              "    </tr>\n",
              "    <tr>\n",
              "      <th>1</th>\n",
              "      <td>Beta (5Y Monthly)</td>\n",
              "      <td>1.13</td>\n",
              "    </tr>\n",
              "    <tr>\n",
              "      <th>2</th>\n",
              "      <td>PE Ratio (TTM)</td>\n",
              "      <td>75.01</td>\n",
              "    </tr>\n",
              "    <tr>\n",
              "      <th>3</th>\n",
              "      <td>EPS (TTM)</td>\n",
              "      <td>41.83</td>\n",
              "    </tr>\n",
              "    <tr>\n",
              "      <th>4</th>\n",
              "      <td>Earnings Date</td>\n",
              "      <td>Apr 28, 2021 - May 03, 2021</td>\n",
              "    </tr>\n",
              "    <tr>\n",
              "      <th>5</th>\n",
              "      <td>Forward Dividend &amp; Yield</td>\n",
              "      <td>N/A (N/A)</td>\n",
              "    </tr>\n",
              "    <tr>\n",
              "      <th>6</th>\n",
              "      <td>Ex-Dividend Date</td>\n",
              "      <td>NaN</td>\n",
              "    </tr>\n",
              "    <tr>\n",
              "      <th>7</th>\n",
              "      <td>1y Target Est</td>\n",
              "      <td>3999.36</td>\n",
              "    </tr>\n",
              "  </tbody>\n",
              "</table>\n",
              "</div>"
            ],
            "text/plain": [
              "                          0                            1\n",
              "0            Previous Close                      3110.87\n",
              "1                      Open                      3127.00\n",
              "2                       Bid                   0.00 x 800\n",
              "3                       Ask                  0.00 x 1400\n",
              "4               Day's Range          3,120.85 - 3,177.00\n",
              "5             52 Week Range          1,885.78 - 3,552.25\n",
              "6                    Volume                      3540586\n",
              "7               Avg. Volume                      3695123\n",
              "0                Market Cap                        1.58T\n",
              "1         Beta (5Y Monthly)                         1.13\n",
              "2            PE Ratio (TTM)                        75.01\n",
              "3                 EPS (TTM)                        41.83\n",
              "4             Earnings Date  Apr 28, 2021 - May 03, 2021\n",
              "5  Forward Dividend & Yield                    N/A (N/A)\n",
              "6          Ex-Dividend Date                          NaN\n",
              "7             1y Target Est                      3999.36"
            ]
          },
          "metadata": {
            "tags": []
          },
          "execution_count": 15
        }
      ]
    },
    {
      "cell_type": "code",
      "metadata": {
        "id": "t_QOHDt1M9s0"
      },
      "source": [
        ""
      ],
      "execution_count": null,
      "outputs": []
    }
  ]
}